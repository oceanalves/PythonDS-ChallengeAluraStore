{
  "nbformat": 4,
  "nbformat_minor": 0,
  "metadata": {
    "colab": {
      "provenance": []
    },
    "kernelspec": {
      "name": "python3",
      "display_name": "Python 3"
    },
    "language_info": {
      "name": "python"
    }
  },
  "cells": [
    {
      "cell_type": "markdown",
      "source": [
        "### Importação dos dados\n",
        "\n"
      ],
      "metadata": {
        "id": "RhEdWd9YUR6H"
      }
    },
    {
      "cell_type": "code",
      "execution_count": 4,
      "metadata": {
        "colab": {
          "base_uri": "https://localhost:8080/",
          "height": 310
        },
        "id": "T3EvaeQ_INIL",
        "outputId": "a6882aa0-b701-45bf-9ba0-edcae94cf413"
      },
      "outputs": [
        {
          "output_type": "execute_result",
          "data": {
            "text/plain": [
              "                 Produto Categoria do Produto    Preço      Frete  \\\n",
              "0     Assistente virtual          eletronicos   219.08   9.249790   \n",
              "1         Mesa de jantar               moveis   256.35  11.234305   \n",
              "2      Jogo de tabuleiro           brinquedos   279.51  21.262681   \n",
              "3            Micro-ondas     eletrodomesticos  1009.99  54.667344   \n",
              "4  Cadeira de escritório               moveis   446.99  26.964689   \n",
              "\n",
              "  Data da Compra        Vendedor Local da compra  Avaliação da compra  \\\n",
              "0     16/01/2021     Pedro Gomes              SP                    4   \n",
              "1     18/05/2022  Beatriz Moraes              RJ                    1   \n",
              "2     15/03/2021      João Souza              DF                    1   \n",
              "3     03/05/2022      João Souza              RS                    4   \n",
              "4     07/11/2020   Larissa Alves              MG                    5   \n",
              "\n",
              "  Tipo de pagamento  Quantidade de parcelas    lat    lon  \n",
              "0    cartao_credito                       8 -22.19 -48.79  \n",
              "1    cartao_credito                       4 -22.25 -42.66  \n",
              "2    cartao_credito                       1 -15.83 -47.86  \n",
              "3            boleto                       1 -30.17 -53.50  \n",
              "4            boleto                       1 -18.10 -44.38  "
            ],
            "text/html": [
              "\n",
              "  <div id=\"df-a89b51f4-e0d7-4cf9-b42b-3266b295e7f0\" class=\"colab-df-container\">\n",
              "    <div>\n",
              "<style scoped>\n",
              "    .dataframe tbody tr th:only-of-type {\n",
              "        vertical-align: middle;\n",
              "    }\n",
              "\n",
              "    .dataframe tbody tr th {\n",
              "        vertical-align: top;\n",
              "    }\n",
              "\n",
              "    .dataframe thead th {\n",
              "        text-align: right;\n",
              "    }\n",
              "</style>\n",
              "<table border=\"1\" class=\"dataframe\">\n",
              "  <thead>\n",
              "    <tr style=\"text-align: right;\">\n",
              "      <th></th>\n",
              "      <th>Produto</th>\n",
              "      <th>Categoria do Produto</th>\n",
              "      <th>Preço</th>\n",
              "      <th>Frete</th>\n",
              "      <th>Data da Compra</th>\n",
              "      <th>Vendedor</th>\n",
              "      <th>Local da compra</th>\n",
              "      <th>Avaliação da compra</th>\n",
              "      <th>Tipo de pagamento</th>\n",
              "      <th>Quantidade de parcelas</th>\n",
              "      <th>lat</th>\n",
              "      <th>lon</th>\n",
              "    </tr>\n",
              "  </thead>\n",
              "  <tbody>\n",
              "    <tr>\n",
              "      <th>0</th>\n",
              "      <td>Assistente virtual</td>\n",
              "      <td>eletronicos</td>\n",
              "      <td>219.08</td>\n",
              "      <td>9.249790</td>\n",
              "      <td>16/01/2021</td>\n",
              "      <td>Pedro Gomes</td>\n",
              "      <td>SP</td>\n",
              "      <td>4</td>\n",
              "      <td>cartao_credito</td>\n",
              "      <td>8</td>\n",
              "      <td>-22.19</td>\n",
              "      <td>-48.79</td>\n",
              "    </tr>\n",
              "    <tr>\n",
              "      <th>1</th>\n",
              "      <td>Mesa de jantar</td>\n",
              "      <td>moveis</td>\n",
              "      <td>256.35</td>\n",
              "      <td>11.234305</td>\n",
              "      <td>18/05/2022</td>\n",
              "      <td>Beatriz Moraes</td>\n",
              "      <td>RJ</td>\n",
              "      <td>1</td>\n",
              "      <td>cartao_credito</td>\n",
              "      <td>4</td>\n",
              "      <td>-22.25</td>\n",
              "      <td>-42.66</td>\n",
              "    </tr>\n",
              "    <tr>\n",
              "      <th>2</th>\n",
              "      <td>Jogo de tabuleiro</td>\n",
              "      <td>brinquedos</td>\n",
              "      <td>279.51</td>\n",
              "      <td>21.262681</td>\n",
              "      <td>15/03/2021</td>\n",
              "      <td>João Souza</td>\n",
              "      <td>DF</td>\n",
              "      <td>1</td>\n",
              "      <td>cartao_credito</td>\n",
              "      <td>1</td>\n",
              "      <td>-15.83</td>\n",
              "      <td>-47.86</td>\n",
              "    </tr>\n",
              "    <tr>\n",
              "      <th>3</th>\n",
              "      <td>Micro-ondas</td>\n",
              "      <td>eletrodomesticos</td>\n",
              "      <td>1009.99</td>\n",
              "      <td>54.667344</td>\n",
              "      <td>03/05/2022</td>\n",
              "      <td>João Souza</td>\n",
              "      <td>RS</td>\n",
              "      <td>4</td>\n",
              "      <td>boleto</td>\n",
              "      <td>1</td>\n",
              "      <td>-30.17</td>\n",
              "      <td>-53.50</td>\n",
              "    </tr>\n",
              "    <tr>\n",
              "      <th>4</th>\n",
              "      <td>Cadeira de escritório</td>\n",
              "      <td>moveis</td>\n",
              "      <td>446.99</td>\n",
              "      <td>26.964689</td>\n",
              "      <td>07/11/2020</td>\n",
              "      <td>Larissa Alves</td>\n",
              "      <td>MG</td>\n",
              "      <td>5</td>\n",
              "      <td>boleto</td>\n",
              "      <td>1</td>\n",
              "      <td>-18.10</td>\n",
              "      <td>-44.38</td>\n",
              "    </tr>\n",
              "  </tbody>\n",
              "</table>\n",
              "</div>\n",
              "    <div class=\"colab-df-buttons\">\n",
              "\n",
              "  <div class=\"colab-df-container\">\n",
              "    <button class=\"colab-df-convert\" onclick=\"convertToInteractive('df-a89b51f4-e0d7-4cf9-b42b-3266b295e7f0')\"\n",
              "            title=\"Convert this dataframe to an interactive table.\"\n",
              "            style=\"display:none;\">\n",
              "\n",
              "  <svg xmlns=\"http://www.w3.org/2000/svg\" height=\"24px\" viewBox=\"0 -960 960 960\">\n",
              "    <path d=\"M120-120v-720h720v720H120Zm60-500h600v-160H180v160Zm220 220h160v-160H400v160Zm0 220h160v-160H400v160ZM180-400h160v-160H180v160Zm440 0h160v-160H620v160ZM180-180h160v-160H180v160Zm440 0h160v-160H620v160Z\"/>\n",
              "  </svg>\n",
              "    </button>\n",
              "\n",
              "  <style>\n",
              "    .colab-df-container {\n",
              "      display:flex;\n",
              "      gap: 12px;\n",
              "    }\n",
              "\n",
              "    .colab-df-convert {\n",
              "      background-color: #E8F0FE;\n",
              "      border: none;\n",
              "      border-radius: 50%;\n",
              "      cursor: pointer;\n",
              "      display: none;\n",
              "      fill: #1967D2;\n",
              "      height: 32px;\n",
              "      padding: 0 0 0 0;\n",
              "      width: 32px;\n",
              "    }\n",
              "\n",
              "    .colab-df-convert:hover {\n",
              "      background-color: #E2EBFA;\n",
              "      box-shadow: 0px 1px 2px rgba(60, 64, 67, 0.3), 0px 1px 3px 1px rgba(60, 64, 67, 0.15);\n",
              "      fill: #174EA6;\n",
              "    }\n",
              "\n",
              "    .colab-df-buttons div {\n",
              "      margin-bottom: 4px;\n",
              "    }\n",
              "\n",
              "    [theme=dark] .colab-df-convert {\n",
              "      background-color: #3B4455;\n",
              "      fill: #D2E3FC;\n",
              "    }\n",
              "\n",
              "    [theme=dark] .colab-df-convert:hover {\n",
              "      background-color: #434B5C;\n",
              "      box-shadow: 0px 1px 3px 1px rgba(0, 0, 0, 0.15);\n",
              "      filter: drop-shadow(0px 1px 2px rgba(0, 0, 0, 0.3));\n",
              "      fill: #FFFFFF;\n",
              "    }\n",
              "  </style>\n",
              "\n",
              "    <script>\n",
              "      const buttonEl =\n",
              "        document.querySelector('#df-a89b51f4-e0d7-4cf9-b42b-3266b295e7f0 button.colab-df-convert');\n",
              "      buttonEl.style.display =\n",
              "        google.colab.kernel.accessAllowed ? 'block' : 'none';\n",
              "\n",
              "      async function convertToInteractive(key) {\n",
              "        const element = document.querySelector('#df-a89b51f4-e0d7-4cf9-b42b-3266b295e7f0');\n",
              "        const dataTable =\n",
              "          await google.colab.kernel.invokeFunction('convertToInteractive',\n",
              "                                                    [key], {});\n",
              "        if (!dataTable) return;\n",
              "\n",
              "        const docLinkHtml = 'Like what you see? Visit the ' +\n",
              "          '<a target=\"_blank\" href=https://colab.research.google.com/notebooks/data_table.ipynb>data table notebook</a>'\n",
              "          + ' to learn more about interactive tables.';\n",
              "        element.innerHTML = '';\n",
              "        dataTable['output_type'] = 'display_data';\n",
              "        await google.colab.output.renderOutput(dataTable, element);\n",
              "        const docLink = document.createElement('div');\n",
              "        docLink.innerHTML = docLinkHtml;\n",
              "        element.appendChild(docLink);\n",
              "      }\n",
              "    </script>\n",
              "  </div>\n",
              "\n",
              "\n",
              "<div id=\"df-35aa3658-81fb-4cc6-add1-6a3821d6310b\">\n",
              "  <button class=\"colab-df-quickchart\" onclick=\"quickchart('df-35aa3658-81fb-4cc6-add1-6a3821d6310b')\"\n",
              "            title=\"Suggest charts\"\n",
              "            style=\"display:none;\">\n",
              "\n",
              "<svg xmlns=\"http://www.w3.org/2000/svg\" height=\"24px\"viewBox=\"0 0 24 24\"\n",
              "     width=\"24px\">\n",
              "    <g>\n",
              "        <path d=\"M19 3H5c-1.1 0-2 .9-2 2v14c0 1.1.9 2 2 2h14c1.1 0 2-.9 2-2V5c0-1.1-.9-2-2-2zM9 17H7v-7h2v7zm4 0h-2V7h2v10zm4 0h-2v-4h2v4z\"/>\n",
              "    </g>\n",
              "</svg>\n",
              "  </button>\n",
              "\n",
              "<style>\n",
              "  .colab-df-quickchart {\n",
              "      --bg-color: #E8F0FE;\n",
              "      --fill-color: #1967D2;\n",
              "      --hover-bg-color: #E2EBFA;\n",
              "      --hover-fill-color: #174EA6;\n",
              "      --disabled-fill-color: #AAA;\n",
              "      --disabled-bg-color: #DDD;\n",
              "  }\n",
              "\n",
              "  [theme=dark] .colab-df-quickchart {\n",
              "      --bg-color: #3B4455;\n",
              "      --fill-color: #D2E3FC;\n",
              "      --hover-bg-color: #434B5C;\n",
              "      --hover-fill-color: #FFFFFF;\n",
              "      --disabled-bg-color: #3B4455;\n",
              "      --disabled-fill-color: #666;\n",
              "  }\n",
              "\n",
              "  .colab-df-quickchart {\n",
              "    background-color: var(--bg-color);\n",
              "    border: none;\n",
              "    border-radius: 50%;\n",
              "    cursor: pointer;\n",
              "    display: none;\n",
              "    fill: var(--fill-color);\n",
              "    height: 32px;\n",
              "    padding: 0;\n",
              "    width: 32px;\n",
              "  }\n",
              "\n",
              "  .colab-df-quickchart:hover {\n",
              "    background-color: var(--hover-bg-color);\n",
              "    box-shadow: 0 1px 2px rgba(60, 64, 67, 0.3), 0 1px 3px 1px rgba(60, 64, 67, 0.15);\n",
              "    fill: var(--button-hover-fill-color);\n",
              "  }\n",
              "\n",
              "  .colab-df-quickchart-complete:disabled,\n",
              "  .colab-df-quickchart-complete:disabled:hover {\n",
              "    background-color: var(--disabled-bg-color);\n",
              "    fill: var(--disabled-fill-color);\n",
              "    box-shadow: none;\n",
              "  }\n",
              "\n",
              "  .colab-df-spinner {\n",
              "    border: 2px solid var(--fill-color);\n",
              "    border-color: transparent;\n",
              "    border-bottom-color: var(--fill-color);\n",
              "    animation:\n",
              "      spin 1s steps(1) infinite;\n",
              "  }\n",
              "\n",
              "  @keyframes spin {\n",
              "    0% {\n",
              "      border-color: transparent;\n",
              "      border-bottom-color: var(--fill-color);\n",
              "      border-left-color: var(--fill-color);\n",
              "    }\n",
              "    20% {\n",
              "      border-color: transparent;\n",
              "      border-left-color: var(--fill-color);\n",
              "      border-top-color: var(--fill-color);\n",
              "    }\n",
              "    30% {\n",
              "      border-color: transparent;\n",
              "      border-left-color: var(--fill-color);\n",
              "      border-top-color: var(--fill-color);\n",
              "      border-right-color: var(--fill-color);\n",
              "    }\n",
              "    40% {\n",
              "      border-color: transparent;\n",
              "      border-right-color: var(--fill-color);\n",
              "      border-top-color: var(--fill-color);\n",
              "    }\n",
              "    60% {\n",
              "      border-color: transparent;\n",
              "      border-right-color: var(--fill-color);\n",
              "    }\n",
              "    80% {\n",
              "      border-color: transparent;\n",
              "      border-right-color: var(--fill-color);\n",
              "      border-bottom-color: var(--fill-color);\n",
              "    }\n",
              "    90% {\n",
              "      border-color: transparent;\n",
              "      border-bottom-color: var(--fill-color);\n",
              "    }\n",
              "  }\n",
              "</style>\n",
              "\n",
              "  <script>\n",
              "    async function quickchart(key) {\n",
              "      const quickchartButtonEl =\n",
              "        document.querySelector('#' + key + ' button');\n",
              "      quickchartButtonEl.disabled = true;  // To prevent multiple clicks.\n",
              "      quickchartButtonEl.classList.add('colab-df-spinner');\n",
              "      try {\n",
              "        const charts = await google.colab.kernel.invokeFunction(\n",
              "            'suggestCharts', [key], {});\n",
              "      } catch (error) {\n",
              "        console.error('Error during call to suggestCharts:', error);\n",
              "      }\n",
              "      quickchartButtonEl.classList.remove('colab-df-spinner');\n",
              "      quickchartButtonEl.classList.add('colab-df-quickchart-complete');\n",
              "    }\n",
              "    (() => {\n",
              "      let quickchartButtonEl =\n",
              "        document.querySelector('#df-35aa3658-81fb-4cc6-add1-6a3821d6310b button');\n",
              "      quickchartButtonEl.style.display =\n",
              "        google.colab.kernel.accessAllowed ? 'block' : 'none';\n",
              "    })();\n",
              "  </script>\n",
              "</div>\n",
              "\n",
              "    </div>\n",
              "  </div>\n"
            ],
            "application/vnd.google.colaboratory.intrinsic+json": {
              "type": "dataframe",
              "variable_name": "loja",
              "summary": "{\n  \"name\": \"loja\",\n  \"rows\": 2359,\n  \"fields\": [\n    {\n      \"column\": \"Produto\",\n      \"properties\": {\n        \"dtype\": \"category\",\n        \"num_unique_values\": 51,\n        \"samples\": [\n          \"Viol\\u00e3o\",\n          \"Bola de basquete\",\n          \"Smartwatch\"\n        ],\n        \"semantic_type\": \"\",\n        \"description\": \"\"\n      }\n    },\n    {\n      \"column\": \"Categoria do Produto\",\n      \"properties\": {\n        \"dtype\": \"category\",\n        \"num_unique_values\": 8,\n        \"samples\": [\n          \"moveis\",\n          \"esporte e lazer\",\n          \"eletronicos\"\n        ],\n        \"semantic_type\": \"\",\n        \"description\": \"\"\n      }\n    },\n    {\n      \"column\": \"Pre\\u00e7o\",\n      \"properties\": {\n        \"dtype\": \"number\",\n        \"std\": 819.5827782539145,\n        \"min\": 10.07,\n        \"max\": 3969.38,\n        \"num_unique_values\": 2315,\n        \"samples\": [\n          446.11,\n          107.31,\n          65.86\n        ],\n        \"semantic_type\": \"\",\n        \"description\": \"\"\n      }\n    },\n    {\n      \"column\": \"Frete\",\n      \"properties\": {\n        \"dtype\": \"number\",\n        \"std\": 43.814183327408166,\n        \"min\": 0.0,\n        \"max\": 214.3770604781,\n        \"num_unique_values\": 2149,\n        \"samples\": [\n          83.815279607,\n          16.069664669,\n          14.0344876928\n        ],\n        \"semantic_type\": \"\",\n        \"description\": \"\"\n      }\n    },\n    {\n      \"column\": \"Data da Compra\",\n      \"properties\": {\n        \"dtype\": \"object\",\n        \"num_unique_values\": 1018,\n        \"samples\": [\n          \"15/09/2022\",\n          \"03/06/2020\",\n          \"06/11/2021\"\n        ],\n        \"semantic_type\": \"\",\n        \"description\": \"\"\n      }\n    },\n    {\n      \"column\": \"Vendedor\",\n      \"properties\": {\n        \"dtype\": \"category\",\n        \"num_unique_values\": 14,\n        \"samples\": [\n          \"Juliana Costa\",\n          \"Mariana Ferreira\",\n          \"Pedro Gomes\"\n        ],\n        \"semantic_type\": \"\",\n        \"description\": \"\"\n      }\n    },\n    {\n      \"column\": \"Local da compra\",\n      \"properties\": {\n        \"dtype\": \"category\",\n        \"num_unique_values\": 26,\n        \"samples\": [\n          \"TO\",\n          \"RN\",\n          \"SP\"\n        ],\n        \"semantic_type\": \"\",\n        \"description\": \"\"\n      }\n    },\n    {\n      \"column\": \"Avalia\\u00e7\\u00e3o da compra\",\n      \"properties\": {\n        \"dtype\": \"number\",\n        \"std\": 1,\n        \"min\": 1,\n        \"max\": 5,\n        \"num_unique_values\": 5,\n        \"samples\": [\n          1,\n          2,\n          5\n        ],\n        \"semantic_type\": \"\",\n        \"description\": \"\"\n      }\n    },\n    {\n      \"column\": \"Tipo de pagamento\",\n      \"properties\": {\n        \"dtype\": \"category\",\n        \"num_unique_values\": 4,\n        \"samples\": [\n          \"boleto\",\n          \"cartao_debito\",\n          \"cartao_credito\"\n        ],\n        \"semantic_type\": \"\",\n        \"description\": \"\"\n      }\n    },\n    {\n      \"column\": \"Quantidade de parcelas\",\n      \"properties\": {\n        \"dtype\": \"number\",\n        \"std\": 2,\n        \"min\": 1,\n        \"max\": 24,\n        \"num_unique_values\": 15,\n        \"samples\": [\n          7,\n          14,\n          8\n        ],\n        \"semantic_type\": \"\",\n        \"description\": \"\"\n      }\n    },\n    {\n      \"column\": \"lat\",\n      \"properties\": {\n        \"dtype\": \"number\",\n        \"std\": 5.372399916530833,\n        \"min\": -30.17,\n        \"max\": 1.41,\n        \"num_unique_values\": 26,\n        \"samples\": [\n          -9.46,\n          -5.81,\n          -22.19\n        ],\n        \"semantic_type\": \"\",\n        \"description\": \"\"\n      }\n    },\n    {\n      \"column\": \"lon\",\n      \"properties\": {\n        \"dtype\": \"number\",\n        \"std\": 4.183180020544179,\n        \"min\": -70.55,\n        \"max\": -36.59,\n        \"num_unique_values\": 26,\n        \"samples\": [\n          -48.26,\n          -36.59,\n          -48.79\n        ],\n        \"semantic_type\": \"\",\n        \"description\": \"\"\n      }\n    }\n  ]\n}"
            }
          },
          "metadata": {},
          "execution_count": 4
        }
      ],
      "source": [
        "import pandas as pd\n",
        "\n",
        "url1 = \"https://raw.githubusercontent.com/alura-es-cursos/challenge1-data-science/refs/heads/main/base-de-dados-challenge-1/loja_1.csv\"\n",
        "url2 = \"https://raw.githubusercontent.com/alura-es-cursos/challenge1-data-science/refs/heads/main/base-de-dados-challenge-1/loja_2.csv\"\n",
        "url3 = \"https://raw.githubusercontent.com/alura-es-cursos/challenge1-data-science/refs/heads/main/base-de-dados-challenge-1/loja_3.csv\"\n",
        "url4 = \"https://raw.githubusercontent.com/alura-es-cursos/challenge1-data-science/refs/heads/main/base-de-dados-challenge-1/loja_4.csv\"\n",
        "\n",
        "loja1 = pd.read_csv(url)\n",
        "loja2 = pd.read_csv(url2)\n",
        "loja3 = pd.read_csv(url3)\n",
        "loja4 = pd.read_csv(url4)\n",
        "\n",
        "loja.head()"
      ]
    },
    {
      "cell_type": "markdown",
      "source": [
        "#1. Análise do faturamento\n"
      ],
      "metadata": {
        "id": "X62IW3KFUIYm"
      }
    },
    {
      "cell_type": "code",
      "source": [
        "# prompt: Nesta primeira análise, você deve calcular o faturamento total de cada loja. Somando os valores da coluna Preço de cada loja para estimar o faturamento.\n",
        "\n",
        "faturamento_loja1 = loja1['Preço'].sum()\n",
        "faturamento_loja2 = loja2['Preço'].sum()\n",
        "faturamento_loja3 = loja3['Preço'].sum()\n",
        "faturamento_loja4 = loja4['Preço'].sum()\n",
        "\n",
        "print(f\"Faturamento Loja 1: R${faturamento_loja1:,.2f}\")\n",
        "print(f\"Faturamento Loja 2: R${faturamento_loja2:,.2f}\")\n",
        "print(f\"Faturamento Loja 3: R${faturamento_loja3:,.2f}\")\n",
        "print(f\"Faturamento Loja 4: R${faturamento_loja4:,.2f}\")\n"
      ],
      "metadata": {
        "id": "xykobSftV64I",
        "colab": {
          "base_uri": "https://localhost:8080/"
        },
        "outputId": "da844389-6028-4aeb-d201-8a52687811b3"
      },
      "execution_count": 7,
      "outputs": [
        {
          "output_type": "stream",
          "name": "stdout",
          "text": [
            "Faturamento Loja 1: R$1,534,509.12\n",
            "Faturamento Loja 2: R$1,488,459.06\n",
            "Faturamento Loja 3: R$1,464,025.03\n",
            "Faturamento Loja 4: R$1,384,497.58\n"
          ]
        }
      ]
    },
    {
      "cell_type": "code",
      "source": [
        "# prompt: Neste passo, deve calcular a quantidade de produtos vendidos por categoria em cada loja. A ideia é agrupar os dados por categoria e contar o número de vendas de cada tipo, mostrando as categoria mais populares de cada loja\n",
        "\n",
        "# Agrupando os dados por categoria e contando as vendas em cada loja\n",
        "vendas_por_categoria_loja1 = loja1.groupby('Categoria do Produto')['Produto'].count().sort_values(ascending=False)\n",
        "vendas_por_categoria_loja2 = loja2.groupby('Categoria do Produto')['Produto'].count().sort_values(ascending=False)\n",
        "vendas_por_categoria_loja3 = loja3.groupby('Categoria do Produto')['Produto'].count().sort_values(ascending=False)\n",
        "vendas_por_categoria_loja4 = loja4.groupby('Categoria do Produto')['Produto'].count().sort_values(ascending=False)\n",
        "\n",
        "# Exibindo as categorias mais populares de cada loja\n",
        "print(\"Categorias mais populares da Loja 1:\")\n",
        "print(vendas_por_categoria_loja1)\n",
        "print(\"\\nCategorias mais populares da Loja 2:\")\n",
        "print(vendas_por_categoria_loja2)\n",
        "print(\"\\nCategorias mais populares da Loja 3:\")\n",
        "print(vendas_por_categoria_loja3)\n",
        "print(\"\\nCategorias mais populares da Loja 4:\")\n",
        "vendas_por_categoria_loja4\n"
      ],
      "metadata": {
        "id": "KDyr8E71V3m-",
        "colab": {
          "base_uri": "https://localhost:8080/",
          "height": 1000
        },
        "outputId": "f07d8c10-498a-44d3-dab8-7b73c95b99ae"
      },
      "execution_count": 11,
      "outputs": [
        {
          "output_type": "stream",
          "name": "stdout",
          "text": [
            "Categorias mais populares da Loja 1:\n",
            "Categoria do Produto\n",
            "moveis                   465\n",
            "eletronicos              448\n",
            "brinquedos               324\n",
            "eletrodomesticos         312\n",
            "esporte e lazer          284\n",
            "instrumentos musicais    182\n",
            "livros                   173\n",
            "utilidades domesticas    171\n",
            "Name: Produto, dtype: int64\n",
            "\n",
            "Categorias mais populares da Loja 2:\n",
            "Categoria do Produto\n",
            "moveis                   442\n",
            "eletronicos              422\n",
            "brinquedos               313\n",
            "eletrodomesticos         305\n",
            "esporte e lazer          275\n",
            "instrumentos musicais    224\n",
            "livros                   197\n",
            "utilidades domesticas    181\n",
            "Name: Produto, dtype: int64\n",
            "\n",
            "Categorias mais populares da Loja 3:\n",
            "Categoria do Produto\n",
            "moveis                   499\n",
            "eletronicos              451\n",
            "brinquedos               315\n",
            "eletrodomesticos         278\n",
            "esporte e lazer          277\n",
            "livros                   185\n",
            "instrumentos musicais    177\n",
            "utilidades domesticas    177\n",
            "Name: Produto, dtype: int64\n",
            "\n",
            "Categorias mais populares da Loja 4:\n"
          ]
        },
        {
          "output_type": "execute_result",
          "data": {
            "text/plain": [
              "Categoria do Produto\n",
              "moveis                   480\n",
              "eletronicos              451\n",
              "brinquedos               338\n",
              "esporte e lazer          277\n",
              "eletrodomesticos         254\n",
              "utilidades domesticas    201\n",
              "livros                   187\n",
              "instrumentos musicais    170\n",
              "Name: Produto, dtype: int64"
            ],
            "text/html": [
              "<div>\n",
              "<style scoped>\n",
              "    .dataframe tbody tr th:only-of-type {\n",
              "        vertical-align: middle;\n",
              "    }\n",
              "\n",
              "    .dataframe tbody tr th {\n",
              "        vertical-align: top;\n",
              "    }\n",
              "\n",
              "    .dataframe thead th {\n",
              "        text-align: right;\n",
              "    }\n",
              "</style>\n",
              "<table border=\"1\" class=\"dataframe\">\n",
              "  <thead>\n",
              "    <tr style=\"text-align: right;\">\n",
              "      <th></th>\n",
              "      <th>Produto</th>\n",
              "    </tr>\n",
              "    <tr>\n",
              "      <th>Categoria do Produto</th>\n",
              "      <th></th>\n",
              "    </tr>\n",
              "  </thead>\n",
              "  <tbody>\n",
              "    <tr>\n",
              "      <th>moveis</th>\n",
              "      <td>480</td>\n",
              "    </tr>\n",
              "    <tr>\n",
              "      <th>eletronicos</th>\n",
              "      <td>451</td>\n",
              "    </tr>\n",
              "    <tr>\n",
              "      <th>brinquedos</th>\n",
              "      <td>338</td>\n",
              "    </tr>\n",
              "    <tr>\n",
              "      <th>esporte e lazer</th>\n",
              "      <td>277</td>\n",
              "    </tr>\n",
              "    <tr>\n",
              "      <th>eletrodomesticos</th>\n",
              "      <td>254</td>\n",
              "    </tr>\n",
              "    <tr>\n",
              "      <th>utilidades domesticas</th>\n",
              "      <td>201</td>\n",
              "    </tr>\n",
              "    <tr>\n",
              "      <th>livros</th>\n",
              "      <td>187</td>\n",
              "    </tr>\n",
              "    <tr>\n",
              "      <th>instrumentos musicais</th>\n",
              "      <td>170</td>\n",
              "    </tr>\n",
              "  </tbody>\n",
              "</table>\n",
              "</div><br><label><b>dtype:</b> int64</label>"
            ]
          },
          "metadata": {},
          "execution_count": 11
        }
      ]
    },
    {
      "cell_type": "markdown",
      "source": [
        "# 2. Vendas por Categoria\n"
      ],
      "metadata": {
        "id": "2V_vcAPzWZmR"
      }
    },
    {
      "cell_type": "code",
      "source": [
        "# prompt: Neste passo, vamos calcular a média das avaliações dos clientes para cada loja. O objetivo é entender a satisfação dos clientes com os produtos vendidos.\n",
        "\n",
        "# Calculando a média das avaliações dos clientes para cada loja\n",
        "media_avaliacoes_loja1 = loja1['Avaliação da compra'].mean()\n",
        "media_avaliacoes_loja2 = loja2['Avaliação da compra'].mean()\n",
        "media_avaliacoes_loja3 = loja3['Avaliação da compra'].mean()\n",
        "media_avaliacoes_loja4 = loja4['Avaliação da compra'].mean()\n",
        "\n",
        "print(f\"Média de avaliações da Loja 1: {media_avaliacoes_loja1:.2f}\")\n",
        "print(f\"Média de avaliações da Loja 2: {media_avaliacoes_loja2:.2f}\")\n",
        "print(f\"Média de avaliações da Loja 3: {media_avaliacoes_loja3:.2f}\")\n",
        "print(f\"Média de avaliações da Loja 4: {media_avaliacoes_loja4:.2f}\")\n"
      ],
      "metadata": {
        "id": "A34YupIuYhfF",
        "colab": {
          "base_uri": "https://localhost:8080/"
        },
        "outputId": "4699cb64-4bf9-4d21-d301-a36aa7110dc5"
      },
      "execution_count": 13,
      "outputs": [
        {
          "output_type": "stream",
          "name": "stdout",
          "text": [
            "Média de avaliações da Loja 1: 3.98\n",
            "Média de avaliações da Loja 2: 4.04\n",
            "Média de avaliações da Loja 3: 4.05\n",
            "Média de avaliações da Loja 4: 4.00\n"
          ]
        }
      ]
    },
    {
      "cell_type": "code",
      "source": [],
      "metadata": {
        "id": "yZR6cOjXYSk1"
      },
      "execution_count": null,
      "outputs": []
    },
    {
      "cell_type": "markdown",
      "source": [
        "# 3. Média de Avaliação das Lojas"
      ],
      "metadata": {
        "id": "Rq6tU_xSY3jk"
      }
    },
    {
      "cell_type": "code",
      "source": [
        "# prompt: Neste passo, vamos calcular o custo médio de frete para cada loja. O objetivo é entender quanto, em média, está sendo gasto com frete para cada uma das lojas.\n",
        "\n",
        "# Calculate the average shipping cost for each store.\n",
        "custo_medio_frete_loja1 = loja1['Frete'].mean()\n",
        "custo_medio_frete_loja2 = loja2['Frete'].mean()\n",
        "custo_medio_frete_loja3 = loja3['Frete'].mean()\n",
        "custo_medio_frete_loja4 = loja4['Frete'].mean()\n",
        "\n",
        "print(f\"Custo médio de frete da Loja 1: R${custo_medio_frete_loja1:,.2f}\")\n",
        "print(f\"Custo médio de frete da Loja 2: R${custo_medio_frete_loja2:,.2f}\")\n",
        "print(f\"Custo médio de frete da Loja 3: R${custo_medio_frete_loja3:,.2f}\")\n",
        "print(f\"Custo médio de frete da Loja 4: R${custo_medio_frete_loja4:,.2f}\")\n"
      ],
      "metadata": {
        "id": "bh3jjjJwY5MU",
        "colab": {
          "base_uri": "https://localhost:8080/"
        },
        "outputId": "7bab0c3e-0df6-4ebb-c1f5-577e5a022656"
      },
      "execution_count": 14,
      "outputs": [
        {
          "output_type": "stream",
          "name": "stdout",
          "text": [
            "Custo médio de frete da Loja 1: R$34.69\n",
            "Custo médio de frete da Loja 2: R$33.62\n",
            "Custo médio de frete da Loja 3: R$33.07\n",
            "Custo médio de frete da Loja 4: R$31.28\n"
          ]
        }
      ]
    },
    {
      "cell_type": "code",
      "source": [],
      "metadata": {
        "id": "I0KkjPoTY88F"
      },
      "execution_count": null,
      "outputs": []
    },
    {
      "cell_type": "markdown",
      "source": [
        "# 4. Produtos Mais e Menos Vendidos"
      ],
      "metadata": {
        "id": "DmNp1KPBZCm-"
      }
    },
    {
      "cell_type": "code",
      "source": [
        "# prompt: Após realizar as análises, é hora de transformar seus resultados em visualizações que ajudem a compreender melhor os padrões e insights encontrados.\n",
        "# Com base nas funções que você criou, recomendamos que você gere pelo menos três gráficos . Esses gráficos devem ser de tipos diferentes (como barras, linhas, dispersão, entre outros) para apresentar uma visão abrangente dos dados.\n",
        "# Lembre-se de que os gráficos devem complementar a análise realizada, destacando os pontos mais relevantes, como o faturamento das lojas, a distribuição das categorias de produtos, as avaliações dos clientes, os produtos mais vendidos, e ou custo do frete.\n",
        "# Não é necessário mostrar uma visualização a cada passo, mas ao final das análises, você deve gerar os gráficos que considerar mais úteis para a interpretação dos dados.\n",
        "\n",
        "import matplotlib.pyplot as plt\n",
        "\n",
        "# Dados para os gráficos (substitua pelos seus dados reais)\n",
        "lojas = ['Loja 1', 'Loja 2', 'Loja 3', 'Loja 4']\n",
        "faturamentos = [faturamento_loja1, faturamento_loja2, faturamento_loja3, faturamento_loja4]\n",
        "avaliacoes = [media_avaliacoes_loja1, media_avaliacoes_loja2, media_avaliacoes_loja3, media_avaliacoes_loja4]\n",
        "custos_frete = [custo_medio_frete_loja1, custo_medio_frete_loja2, custo_medio_frete_loja3, custo_medio_frete_loja4]\n",
        "\n",
        "\n",
        "# Gráfico de barras - Faturamento das lojas\n",
        "plt.figure(figsize=(6, 4))\n",
        "plt.bar(lojas, faturamentos, color=['skyblue', 'lightcoral', 'lightgreen', 'gold'])\n",
        "plt.xlabel(\"Lojas\")\n",
        "plt.ylabel(\"Faturamento (R$)\")\n",
        "plt.title(\"Faturamento por Loja\")\n",
        "plt.show()\n",
        "\n",
        "\n",
        "# Gráfico de linhas - Avaliação dos clientes\n",
        "plt.figure(figsize=(6, 4))\n",
        "plt.plot(lojas, avaliacoes, marker='o', linestyle='-', color='mediumpurple')\n",
        "plt.xlabel(\"Lojas\")\n",
        "plt.ylabel(\"Avaliação Média\")\n",
        "plt.title(\"Avaliação Média por Loja\")\n",
        "plt.show()\n",
        "\n",
        "\n",
        "# Gráfico de dispersão - Custo de frete vs. Faturamento\n",
        "plt.figure(figsize=(6, 4))\n",
        "plt.scatter(custos_frete, faturamentos, color='teal', alpha=0.7)\n",
        "plt.xlabel(\"Custo Médio de Frete (R$)\")\n",
        "plt.ylabel(\"Faturamento (R$)\")\n",
        "plt.title(\"Relação entre Custo de Frete e Faturamento\")\n",
        "plt.show()\n"
      ],
      "metadata": {
        "id": "qoyjqijQZHfF",
        "colab": {
          "base_uri": "https://localhost:8080/",
          "height": 1000
        },
        "outputId": "cf0715b2-4756-4f04-9c4f-82b9ee50b4ae"
      },
      "execution_count": 16,
      "outputs": [
        {
          "output_type": "display_data",
          "data": {
            "text/plain": [
              "<Figure size 600x400 with 1 Axes>"
            ],
            "image/png": "[encoded data removed]"
          },
          "metadata": {}
        },
        {
          "output_type": "display_data",
          "data": {
            "text/plain": [
              "<Figure size 600x400 with 1 Axes>"
            ],
            "image/png": "[encoded data removed]"
          },
          "metadata": {}
        },
        {
          "output_type": "display_data",
          "data": {
            "text/plain": [
              "<Figure size 600x400 with 1 Axes>"
            ],
            "image/png": "[encoded data removed]"
          },
          "metadata": {}
        }
      ]
    },
    {
      "cell_type": "code",
      "source": [],
      "metadata": {
        "id": "0Sw3sd4IZIGW"
      },
      "execution_count": null,
      "outputs": []
    },
    {
      "cell_type": "markdown",
      "source": [
        "# 5. Frete Médio por Loja\n"
      ],
      "metadata": {
        "id": "Fl0cGi3bZKqU"
      }
    },
    {
      "cell_type": "code",
      "source": [
        "# prompt: faça o gráfico do frete médio por loja\n",
        "\n",
        "# Gráfico de barras - Custo médio de frete por loja\n",
        "plt.figure(figsize=(8, 6))\n",
        "plt.bar(lojas, custos_frete, color=['skyblue', 'lightcoral', 'lightgreen', 'gold'])\n",
        "plt.xlabel(\"Lojas\")\n",
        "plt.ylabel(\"Custo Médio de Frete (R$)\")\n",
        "plt.title(\"Custo Médio de Frete por Loja\")\n",
        "plt.show()\n"
      ],
      "metadata": {
        "id": "S2JeaCykZNy9",
        "colab": {
          "base_uri": "https://localhost:8080/",
          "height": 565
        },
        "outputId": "7d068f5e-aeae-4549-856d-88250ac82de4"
      },
      "execution_count": 18,
      "outputs": [
        {
          "output_type": "display_data",
          "data": {
            "text/plain": [
              "<Figure size 800x600 with 1 Axes>"
            ],
            "image/png": "[encoded data removed]"
          },
          "metadata": {}
        }
      ]
    },
    {
      "cell_type": "code",
      "source": [
        "# prompt: Descrição\n",
        "# Com base nas análises realizadas e nos gráficos gerados, é hora de sintetizar suas descobertas em um relatório final. Dentro do seu Colab, você deve escrever um texto explicando qual loja o Senhor João deve vender, levando em consideração todos os fatores analisados, como:\n",
        "# O faturamento total das lojas.\n",
        "# As categorias de produtos mais e menos vendidas.\n",
        "# A média das avaliações de clientes por loja.\n",
        "# Os produtos mais e menos vendidos.\n",
        "# O frete médio de cada loja.\n",
        "# Em seu relatório, inclua a justificativa para sua decisão, apoiada nas análises e nas visualizações que você gerou. Explique, de forma clara e objetiva, os motivos pelos quais uma loja se destaca (ou não) em relação às outras, considerando os pontos fortes e fracos de cada uma.\n",
        "# Gere um mardown do Seu relatório deve ser bem estruturado, com uma introdução que explique o objetivo da análise, um desenvolvimento com a apresentação dos dados e gráficos, e uma conclusão recomendando a loja que deve ser vendida e justificando a escolha.\n",
        "\n",
        "# Análise das lojas e recomendação para o Senhor João\n",
        "\n",
        "## Introdução\n",
        "\n",
        "Este relatório analisa quatro lojas com o objetivo de recomendar ao Senhor João qual delas adquirir. A análise considera o faturamento total, as categorias de produtos mais e menos vendidas, a média das avaliações dos clientes, os produtos mais e menos vendidos, e o frete médio de cada loja.\n",
        "\n",
        "## Desenvolvimento\n",
        "\n",
        "**1. Faturamento Total:**\n",
        "\n",
        "O gráfico de barras mostra o faturamento total de cada loja.  Embora os valores exatos não estejam incluídos no código, a visualização permite uma comparação direta entre as lojas. A loja com maior faturamento emerge como uma forte candidata, mas é essencial analisar os outros indicadores para uma decisão mais completa.\n",
        "\n",
        "**2. Análise de Vendas por Categoria:**\n",
        "\n",
        "A análise das categorias de produtos mais vendidas em cada loja fornece insights sobre o perfil do consumidor de cada estabelecimento. A loja que vende as categorias mais lucrativas ou com maior margem de lucro, dependendo da estratégia do Senhor João, deve ser priorizada.\n",
        "\n",
        "**3. Avaliação dos Clientes:**\n",
        "\n",
        "O gráfico de linhas mostra a média das avaliações de clientes por loja. A loja com maior média de avaliações indica maior satisfação do cliente.\n",
        "\n",
        "**4. Produtos Mais e Menos Vendidos:**\n",
        "\n",
        "A identificação dos produtos com maior e menor saída é crucial. Uma loja que vende muitos produtos populares e menos produtos com baixa rotatividade é mais eficiente.\n",
        "\n",
        "**5. Frete Médio por Loja:**\n",
        "\n",
        "O gráfico de barras do custo médio de frete mostra a relação custo-benefício de cada loja. Um frete mais baixo pode ser um atrativo para clientes, mas deve ser considerado em relação ao faturamento.\n",
        "\n",
        "**6. Gráfico de Dispersão: Custo de frete vs. Faturamento**\n",
        "\n",
        "O gráfico de dispersão mostra a relação entre o custo de frete e o faturamento. Lojas com baixo frete e alto faturamento são as mais atrativas.\n",
        "\n",
        "## Conclusão e Recomendação\n",
        "\n",
        "Com base nas análises e gráficos (cujos valores exatos dependem da execução do código fornecido), a recomendação para o Senhor João dependerá do peso que ele dará a cada um dos fatores analisados. Se priorizar faturamento, a loja com maior receita seria recomendada. Se priorizar satisfação do cliente, a loja com maior avaliação média seria a escolhida. Um equilíbrio entre esses e outros fatores como custos de frete e categorias mais vendidas, deve levar à melhor decisão. Para dar uma recomendação completa, os valores numéricos de cada uma dessas variáveis devem ser analisados. O código fornecido permite a geração desses dados e posterior análise.\n"
      ],
      "metadata": {
        "id": "0tSdCie9ZQlt"
      },
      "execution_count": null,
      "outputs": []
    }
  ]
}